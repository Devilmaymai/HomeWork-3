{
 "cells": [
  {
   "cell_type": "code",
   "execution_count": 1,
   "metadata": {},
   "outputs": [],
   "source": [
    "import matplotlib.pyplot as plt\n",
    "from sklearn import linear_model, metrics, model_selection\n",
    "import numpy as np\n",
    "import pandas as pd"
   ]
  },
  {
   "cell_type": "code",
   "execution_count": 2,
   "metadata": {},
   "outputs": [],
   "source": [
    "df = pd.read_csv('stockmarket.csv')"
   ]
  },
  {
   "cell_type": "code",
   "execution_count": 3,
   "metadata": {
    "scrolled": false
   },
   "outputs": [
    {
     "data": {
      "text/html": [
       "<div>\n",
       "<style scoped>\n",
       "    .dataframe tbody tr th:only-of-type {\n",
       "        vertical-align: middle;\n",
       "    }\n",
       "\n",
       "    .dataframe tbody tr th {\n",
       "        vertical-align: top;\n",
       "    }\n",
       "\n",
       "    .dataframe thead th {\n",
       "        text-align: right;\n",
       "    }\n",
       "</style>\n",
       "<table border=\"1\" class=\"dataframe\">\n",
       "  <thead>\n",
       "    <tr style=\"text-align: right;\">\n",
       "      <th></th>\n",
       "      <th>Date</th>\n",
       "      <th>Open Price</th>\n",
       "      <th>Close Price</th>\n",
       "      <th>High Price</th>\n",
       "      <th>Low Price</th>\n",
       "      <th>Volume</th>\n",
       "    </tr>\n",
       "  </thead>\n",
       "  <tbody>\n",
       "    <tr>\n",
       "      <th>0</th>\n",
       "      <td>02-Jan-2009</td>\n",
       "      <td>902.99</td>\n",
       "      <td>931.80</td>\n",
       "      <td>934.73</td>\n",
       "      <td>899.35</td>\n",
       "      <td>4048270080</td>\n",
       "    </tr>\n",
       "    <tr>\n",
       "      <th>1</th>\n",
       "      <td>05-Jan-2009</td>\n",
       "      <td>929.17</td>\n",
       "      <td>927.45</td>\n",
       "      <td>936.63</td>\n",
       "      <td>919.53</td>\n",
       "      <td>5413910016</td>\n",
       "    </tr>\n",
       "    <tr>\n",
       "      <th>2</th>\n",
       "      <td>06-Jan-2009</td>\n",
       "      <td>931.17</td>\n",
       "      <td>934.70</td>\n",
       "      <td>943.85</td>\n",
       "      <td>927.28</td>\n",
       "      <td>5392620032</td>\n",
       "    </tr>\n",
       "    <tr>\n",
       "      <th>3</th>\n",
       "      <td>07-Jan-2009</td>\n",
       "      <td>927.45</td>\n",
       "      <td>906.65</td>\n",
       "      <td>927.45</td>\n",
       "      <td>902.37</td>\n",
       "      <td>4704940032</td>\n",
       "    </tr>\n",
       "    <tr>\n",
       "      <th>4</th>\n",
       "      <td>08-Jan-2009</td>\n",
       "      <td>905.73</td>\n",
       "      <td>909.73</td>\n",
       "      <td>910.00</td>\n",
       "      <td>896.81</td>\n",
       "      <td>4991549952</td>\n",
       "    </tr>\n",
       "  </tbody>\n",
       "</table>\n",
       "</div>"
      ],
      "text/plain": [
       "          Date  Open Price  Close Price  High Price  Low Price      Volume\n",
       "0  02-Jan-2009      902.99       931.80      934.73     899.35  4048270080\n",
       "1  05-Jan-2009      929.17       927.45      936.63     919.53  5413910016\n",
       "2  06-Jan-2009      931.17       934.70      943.85     927.28  5392620032\n",
       "3  07-Jan-2009      927.45       906.65      927.45     902.37  4704940032\n",
       "4  08-Jan-2009      905.73       909.73      910.00     896.81  4991549952"
      ]
     },
     "execution_count": 3,
     "metadata": {},
     "output_type": "execute_result"
    }
   ],
   "source": [
    "df.head()"
   ]
  },
  {
   "cell_type": "markdown",
   "metadata": {},
   "source": [
    "## Data processing"
   ]
  },
  {
   "cell_type": "code",
   "execution_count": 4,
   "metadata": {},
   "outputs": [],
   "source": [
    "import datetime\n",
    "import calendar\n",
    "\n",
    "def Date_trans(row):\n",
    "    temp = row[\"Date\"].split(\"-\")\n",
    "    temp[1] = list(calendar.month_abbr).index(temp[1])\n",
    "    y = \"-\".join('%s' %id for id in temp)\n",
    "    y = datetime.datetime.strptime(y, '%d-%m-%Y')\n",
    "    return y\n",
    "\n",
    "df[\"Date_T\"] = df.apply (Date_trans , axis = 1)    "
   ]
  },
  {
   "cell_type": "code",
   "execution_count": 5,
   "metadata": {
    "scrolled": true
   },
   "outputs": [
    {
     "data": {
      "text/html": [
       "<div>\n",
       "<style scoped>\n",
       "    .dataframe tbody tr th:only-of-type {\n",
       "        vertical-align: middle;\n",
       "    }\n",
       "\n",
       "    .dataframe tbody tr th {\n",
       "        vertical-align: top;\n",
       "    }\n",
       "\n",
       "    .dataframe thead th {\n",
       "        text-align: right;\n",
       "    }\n",
       "</style>\n",
       "<table border=\"1\" class=\"dataframe\">\n",
       "  <thead>\n",
       "    <tr style=\"text-align: right;\">\n",
       "      <th></th>\n",
       "      <th>Date</th>\n",
       "      <th>Open Price</th>\n",
       "      <th>Close Price</th>\n",
       "      <th>High Price</th>\n",
       "      <th>Low Price</th>\n",
       "      <th>Volume</th>\n",
       "      <th>Date_T</th>\n",
       "    </tr>\n",
       "  </thead>\n",
       "  <tbody>\n",
       "    <tr>\n",
       "      <th>0</th>\n",
       "      <td>02-Jan-2009</td>\n",
       "      <td>902.99</td>\n",
       "      <td>931.80</td>\n",
       "      <td>934.73</td>\n",
       "      <td>899.35</td>\n",
       "      <td>4048270080</td>\n",
       "      <td>2009-01-02</td>\n",
       "    </tr>\n",
       "    <tr>\n",
       "      <th>1</th>\n",
       "      <td>05-Jan-2009</td>\n",
       "      <td>929.17</td>\n",
       "      <td>927.45</td>\n",
       "      <td>936.63</td>\n",
       "      <td>919.53</td>\n",
       "      <td>5413910016</td>\n",
       "      <td>2009-01-05</td>\n",
       "    </tr>\n",
       "    <tr>\n",
       "      <th>2</th>\n",
       "      <td>06-Jan-2009</td>\n",
       "      <td>931.17</td>\n",
       "      <td>934.70</td>\n",
       "      <td>943.85</td>\n",
       "      <td>927.28</td>\n",
       "      <td>5392620032</td>\n",
       "      <td>2009-01-06</td>\n",
       "    </tr>\n",
       "    <tr>\n",
       "      <th>3</th>\n",
       "      <td>07-Jan-2009</td>\n",
       "      <td>927.45</td>\n",
       "      <td>906.65</td>\n",
       "      <td>927.45</td>\n",
       "      <td>902.37</td>\n",
       "      <td>4704940032</td>\n",
       "      <td>2009-01-07</td>\n",
       "    </tr>\n",
       "    <tr>\n",
       "      <th>4</th>\n",
       "      <td>08-Jan-2009</td>\n",
       "      <td>905.73</td>\n",
       "      <td>909.73</td>\n",
       "      <td>910.00</td>\n",
       "      <td>896.81</td>\n",
       "      <td>4991549952</td>\n",
       "      <td>2009-01-08</td>\n",
       "    </tr>\n",
       "  </tbody>\n",
       "</table>\n",
       "</div>"
      ],
      "text/plain": [
       "          Date  Open Price  Close Price  High Price  Low Price      Volume  \\\n",
       "0  02-Jan-2009      902.99       931.80      934.73     899.35  4048270080   \n",
       "1  05-Jan-2009      929.17       927.45      936.63     919.53  5413910016   \n",
       "2  06-Jan-2009      931.17       934.70      943.85     927.28  5392620032   \n",
       "3  07-Jan-2009      927.45       906.65      927.45     902.37  4704940032   \n",
       "4  08-Jan-2009      905.73       909.73      910.00     896.81  4991549952   \n",
       "\n",
       "      Date_T  \n",
       "0 2009-01-02  \n",
       "1 2009-01-05  \n",
       "2 2009-01-06  \n",
       "3 2009-01-07  \n",
       "4 2009-01-08  "
      ]
     },
     "execution_count": 5,
     "metadata": {},
     "output_type": "execute_result"
    }
   ],
   "source": [
    "df.head()"
   ]
  },
  {
   "cell_type": "markdown",
   "metadata": {},
   "source": [
    "Mark out training set"
   ]
  },
  {
   "cell_type": "code",
   "execution_count": 6,
   "metadata": {},
   "outputs": [],
   "source": [
    "def Train_Test(row):\n",
    "    y = row[\"Date_T\"].year\n",
    "    if y < 2018:\n",
    "        return \"T\"\n",
    "    else:\n",
    "        return \"F\"\n",
    "\n",
    "df[\"Train\"] = df.apply (Train_Test , axis = 1)    "
   ]
  },
  {
   "cell_type": "code",
   "execution_count": 7,
   "metadata": {
    "scrolled": true
   },
   "outputs": [
    {
     "data": {
      "text/html": [
       "<div>\n",
       "<style scoped>\n",
       "    .dataframe tbody tr th:only-of-type {\n",
       "        vertical-align: middle;\n",
       "    }\n",
       "\n",
       "    .dataframe tbody tr th {\n",
       "        vertical-align: top;\n",
       "    }\n",
       "\n",
       "    .dataframe thead th {\n",
       "        text-align: right;\n",
       "    }\n",
       "</style>\n",
       "<table border=\"1\" class=\"dataframe\">\n",
       "  <thead>\n",
       "    <tr style=\"text-align: right;\">\n",
       "      <th></th>\n",
       "      <th>Date</th>\n",
       "      <th>Open Price</th>\n",
       "      <th>Close Price</th>\n",
       "      <th>High Price</th>\n",
       "      <th>Low Price</th>\n",
       "      <th>Volume</th>\n",
       "      <th>Date_T</th>\n",
       "      <th>Train</th>\n",
       "    </tr>\n",
       "  </thead>\n",
       "  <tbody>\n",
       "    <tr>\n",
       "      <th>2511</th>\n",
       "      <td>24-Dec-2018</td>\n",
       "      <td>2400.56</td>\n",
       "      <td>2351.10</td>\n",
       "      <td>2410.34</td>\n",
       "      <td>2351.10</td>\n",
       "      <td>1662758784</td>\n",
       "      <td>2018-12-24</td>\n",
       "      <td>F</td>\n",
       "    </tr>\n",
       "    <tr>\n",
       "      <th>2512</th>\n",
       "      <td>26-Dec-2018</td>\n",
       "      <td>2363.12</td>\n",
       "      <td>2467.70</td>\n",
       "      <td>2467.76</td>\n",
       "      <td>2346.58</td>\n",
       "      <td>2611875072</td>\n",
       "      <td>2018-12-26</td>\n",
       "      <td>F</td>\n",
       "    </tr>\n",
       "    <tr>\n",
       "      <th>2513</th>\n",
       "      <td>27-Dec-2018</td>\n",
       "      <td>2442.50</td>\n",
       "      <td>2488.83</td>\n",
       "      <td>2489.10</td>\n",
       "      <td>2397.94</td>\n",
       "      <td>2386466304</td>\n",
       "      <td>2018-12-27</td>\n",
       "      <td>F</td>\n",
       "    </tr>\n",
       "    <tr>\n",
       "      <th>2514</th>\n",
       "      <td>28-Dec-2018</td>\n",
       "      <td>2498.77</td>\n",
       "      <td>2485.74</td>\n",
       "      <td>2520.27</td>\n",
       "      <td>2472.89</td>\n",
       "      <td>2080726656</td>\n",
       "      <td>2018-12-28</td>\n",
       "      <td>F</td>\n",
       "    </tr>\n",
       "    <tr>\n",
       "      <th>2515</th>\n",
       "      <td>31-Dec-2018</td>\n",
       "      <td>2498.94</td>\n",
       "      <td>2506.85</td>\n",
       "      <td>2509.24</td>\n",
       "      <td>2482.82</td>\n",
       "      <td>1912680064</td>\n",
       "      <td>2018-12-31</td>\n",
       "      <td>F</td>\n",
       "    </tr>\n",
       "  </tbody>\n",
       "</table>\n",
       "</div>"
      ],
      "text/plain": [
       "             Date  Open Price  Close Price  High Price  Low Price      Volume  \\\n",
       "2511  24-Dec-2018     2400.56      2351.10     2410.34    2351.10  1662758784   \n",
       "2512  26-Dec-2018     2363.12      2467.70     2467.76    2346.58  2611875072   \n",
       "2513  27-Dec-2018     2442.50      2488.83     2489.10    2397.94  2386466304   \n",
       "2514  28-Dec-2018     2498.77      2485.74     2520.27    2472.89  2080726656   \n",
       "2515  31-Dec-2018     2498.94      2506.85     2509.24    2482.82  1912680064   \n",
       "\n",
       "         Date_T Train  \n",
       "2511 2018-12-24     F  \n",
       "2512 2018-12-26     F  \n",
       "2513 2018-12-27     F  \n",
       "2514 2018-12-28     F  \n",
       "2515 2018-12-31     F  "
      ]
     },
     "execution_count": 7,
     "metadata": {},
     "output_type": "execute_result"
    }
   ],
   "source": [
    "df.tail()"
   ]
  },
  {
   "cell_type": "code",
   "execution_count": 8,
   "metadata": {},
   "outputs": [
    {
     "data": {
      "text/plain": [
       "T    2264\n",
       "F     252\n",
       "Name: Train, dtype: int64"
      ]
     },
     "execution_count": 8,
     "metadata": {},
     "output_type": "execute_result"
    }
   ],
   "source": [
    "df['Train'].value_counts()"
   ]
  },
  {
   "cell_type": "markdown",
   "metadata": {},
   "source": [
    "Convert to timestamp"
   ]
  },
  {
   "cell_type": "code",
   "execution_count": 9,
   "metadata": {},
   "outputs": [],
   "source": [
    "def ToStamp(row):\n",
    "    y = datetime.datetime.timestamp(row[\"Date_T\"])\n",
    "    return y\n",
    "\n",
    "df[\"Time\"] = df.apply (ToStamp , axis = 1)           "
   ]
  },
  {
   "cell_type": "markdown",
   "metadata": {},
   "source": [
    "Calculate rise and fall percentage"
   ]
  },
  {
   "cell_type": "code",
   "execution_count": 10,
   "metadata": {},
   "outputs": [],
   "source": [
    "def Rise_Fall_P(row):\n",
    "    P = (row[\"Close Price\"]/row[\"Open Price\"]-1)*100\n",
    "    return P\n",
    "\n",
    "df[\"Diff\"] = df.apply (Rise_Fall_P , axis = 1)"
   ]
  },
  {
   "cell_type": "code",
   "execution_count": 11,
   "metadata": {},
   "outputs": [],
   "source": [
    "#df[[\"Date_T\" , \"Diff\" , \"Train\"]]\n",
    "Data = df.drop([\"Date\", \"Close Price\", \"Date_T\"], axis=1)\n",
    "Data_train = Data[Data[\"Train\"] == \"T\"].drop([\"Train\"], axis=1)\n",
    "Data_test = Data[Data[\"Train\"] == \"F\"].drop([\"Train\"], axis=1)"
   ]
  },
  {
   "cell_type": "markdown",
   "metadata": {},
   "source": [
    "Seperate training and testing data set"
   ]
  },
  {
   "cell_type": "code",
   "execution_count": 12,
   "metadata": {},
   "outputs": [],
   "source": [
    "x_train = Data_train.loc[:, Data_train.columns != \"Diff\"]\n",
    "y_train = Data_train[\"Diff\"]\n",
    "x_test = Data_test.loc[:, Data_test.columns != \"Diff\"]\n",
    "y_test = Data_test[\"Diff\"]"
   ]
  },
  {
   "cell_type": "code",
   "execution_count": 13,
   "metadata": {
    "scrolled": true
   },
   "outputs": [
    {
     "data": {
      "text/html": [
       "<div>\n",
       "<style scoped>\n",
       "    .dataframe tbody tr th:only-of-type {\n",
       "        vertical-align: middle;\n",
       "    }\n",
       "\n",
       "    .dataframe tbody tr th {\n",
       "        vertical-align: top;\n",
       "    }\n",
       "\n",
       "    .dataframe thead th {\n",
       "        text-align: right;\n",
       "    }\n",
       "</style>\n",
       "<table border=\"1\" class=\"dataframe\">\n",
       "  <thead>\n",
       "    <tr style=\"text-align: right;\">\n",
       "      <th></th>\n",
       "      <th>Open Price</th>\n",
       "      <th>High Price</th>\n",
       "      <th>Low Price</th>\n",
       "      <th>Volume</th>\n",
       "      <th>Time</th>\n",
       "    </tr>\n",
       "  </thead>\n",
       "  <tbody>\n",
       "    <tr>\n",
       "      <th>0</th>\n",
       "      <td>902.99</td>\n",
       "      <td>934.73</td>\n",
       "      <td>899.35</td>\n",
       "      <td>4048270080</td>\n",
       "      <td>1.230826e+09</td>\n",
       "    </tr>\n",
       "    <tr>\n",
       "      <th>1</th>\n",
       "      <td>929.17</td>\n",
       "      <td>936.63</td>\n",
       "      <td>919.53</td>\n",
       "      <td>5413910016</td>\n",
       "      <td>1.231085e+09</td>\n",
       "    </tr>\n",
       "    <tr>\n",
       "      <th>2</th>\n",
       "      <td>931.17</td>\n",
       "      <td>943.85</td>\n",
       "      <td>927.28</td>\n",
       "      <td>5392620032</td>\n",
       "      <td>1.231171e+09</td>\n",
       "    </tr>\n",
       "    <tr>\n",
       "      <th>3</th>\n",
       "      <td>927.45</td>\n",
       "      <td>927.45</td>\n",
       "      <td>902.37</td>\n",
       "      <td>4704940032</td>\n",
       "      <td>1.231258e+09</td>\n",
       "    </tr>\n",
       "    <tr>\n",
       "      <th>4</th>\n",
       "      <td>905.73</td>\n",
       "      <td>910.00</td>\n",
       "      <td>896.81</td>\n",
       "      <td>4991549952</td>\n",
       "      <td>1.231344e+09</td>\n",
       "    </tr>\n",
       "  </tbody>\n",
       "</table>\n",
       "</div>"
      ],
      "text/plain": [
       "   Open Price  High Price  Low Price      Volume          Time\n",
       "0      902.99      934.73     899.35  4048270080  1.230826e+09\n",
       "1      929.17      936.63     919.53  5413910016  1.231085e+09\n",
       "2      931.17      943.85     927.28  5392620032  1.231171e+09\n",
       "3      927.45      927.45     902.37  4704940032  1.231258e+09\n",
       "4      905.73      910.00     896.81  4991549952  1.231344e+09"
      ]
     },
     "execution_count": 13,
     "metadata": {},
     "output_type": "execute_result"
    }
   ],
   "source": [
    "x_train.head()"
   ]
  },
  {
   "cell_type": "markdown",
   "metadata": {},
   "source": [
    "## Linear regression"
   ]
  },
  {
   "cell_type": "code",
   "execution_count": 14,
   "metadata": {},
   "outputs": [
    {
     "data": {
      "text/plain": [
       "LinearRegression(copy_X=True, fit_intercept=True, n_jobs=None, normalize=True)"
      ]
     },
     "execution_count": 14,
     "metadata": {},
     "output_type": "execute_result"
    }
   ],
   "source": [
    "model = linear_model.LinearRegression(normalize=True)\n",
    "model.fit(x_train, y_train)"
   ]
  },
  {
   "cell_type": "code",
   "execution_count": 15,
   "metadata": {},
   "outputs": [
    {
     "name": "stdout",
     "output_type": "stream",
     "text": [
      "0.2329952917956088\n"
     ]
    }
   ],
   "source": [
    "train_pred = model.predict(x_train)\n",
    "mse_train = metrics.mean_squared_error(y_train, train_pred)\n",
    "print(mse_train)"
   ]
  },
  {
   "cell_type": "code",
   "execution_count": 16,
   "metadata": {},
   "outputs": [
    {
     "data": {
      "text/plain": [
       "0.4826958584819315"
      ]
     },
     "execution_count": 16,
     "metadata": {},
     "output_type": "execute_result"
    }
   ],
   "source": [
    "np.sqrt(mse_train)"
   ]
  },
  {
   "cell_type": "code",
   "execution_count": 17,
   "metadata": {
    "scrolled": true
   },
   "outputs": [
    {
     "name": "stdout",
     "output_type": "stream",
     "text": [
      "test MSE: 0.4811992196290959\n",
      "test RMSE: 0.6936852453592306\n"
     ]
    }
   ],
   "source": [
    "test_pred = model.predict(x_test)\n",
    "test_mse = metrics.mean_squared_error(y_test, test_pred)\n",
    "print('test MSE: %s' % test_mse)\n",
    "print('test RMSE: %s' % np.sqrt(test_mse))"
   ]
  },
  {
   "cell_type": "code",
   "execution_count": 18,
   "metadata": {},
   "outputs": [
    {
     "data": {
      "text/plain": [
       "Index(['Open Price', 'High Price', 'Low Price', 'Volume', 'Time'], dtype='object')"
      ]
     },
     "execution_count": 18,
     "metadata": {},
     "output_type": "execute_result"
    }
   ],
   "source": [
    "x_train.columns"
   ]
  },
  {
   "cell_type": "markdown",
   "metadata": {},
   "source": [
    "Scatter plot of selected training data"
   ]
  },
  {
   "cell_type": "code",
   "execution_count": 19,
   "metadata": {},
   "outputs": [
    {
     "data": {
      "image/png": "[encoded data removed]",
      "text/plain": [
       "<Figure size 1080x720 with 5 Axes>"
      ]
     },
     "metadata": {
      "needs_background": "light"
     },
     "output_type": "display_data"
    }
   ],
   "source": [
    "def scatter(_data, x_name):\n",
    "    plt.scatter(_data[x_name], _data[\"Diff\"])\n",
    "    plt.xlabel(x_name)\n",
    "    plt.ylabel(\"Diff\")\n",
    "    \n",
    "plt.figure(figsize=(15,10))    \n",
    "for i in range(len(x_train.columns)):\n",
    "    plt.subplot(2,3,i+1),scatter(Data, x_train.columns[i])\n",
    "plt.show()    "
   ]
  },
  {
   "cell_type": "markdown",
   "metadata": {},
   "source": [
    "## Ridge Regression"
   ]
  },
  {
   "cell_type": "code",
   "execution_count": 20,
   "metadata": {},
   "outputs": [],
   "source": [
    "def scorer(model, X, y):\n",
    "    preds = model.predict(X)\n",
    "    return metrics.mean_squared_error(y, preds)"
   ]
  },
  {
   "cell_type": "markdown",
   "metadata": {},
   "source": [
    "Searching best 𝛼"
   ]
  },
  {
   "cell_type": "code",
   "execution_count": 21,
   "metadata": {},
   "outputs": [
    {
     "data": {
      "text/plain": [
       "array([0.00000000e+00, 5.26315789e-05, 1.05263158e-04, 1.57894737e-04,\n",
       "       2.10526316e-04, 2.63157895e-04, 3.15789474e-04, 3.68421053e-04,\n",
       "       4.21052632e-04, 4.73684211e-04, 5.26315789e-04, 5.78947368e-04,\n",
       "       6.31578947e-04, 6.84210526e-04, 7.36842105e-04, 7.89473684e-04,\n",
       "       8.42105263e-04, 8.94736842e-04, 9.47368421e-04, 1.00000000e-03])"
      ]
     },
     "execution_count": 21,
     "metadata": {},
     "output_type": "execute_result"
    }
   ],
   "source": [
    "alphas = np.linspace(start=0, stop=0.001, num=20)\n",
    "alphas"
   ]
  },
  {
   "cell_type": "code",
   "execution_count": 22,
   "metadata": {},
   "outputs": [],
   "source": [
    "mses = []\n",
    "for alpha in alphas:\n",
    "    ridge = linear_model.Ridge(alpha=alpha, normalize=True)\n",
    "    mse = model_selection.cross_val_score(ridge, x_train, y_train, cv=10, scoring=scorer)\n",
    "    mses.append(mse.mean())"
   ]
  },
  {
   "cell_type": "code",
   "execution_count": 23,
   "metadata": {},
   "outputs": [
    {
     "data": {
      "text/plain": [
       "[0.2584873424502808,\n",
       " 0.2902850473803974,\n",
       " 0.3548381593752769,\n",
       " 0.41659425946405193,\n",
       " 0.47005317870393454,\n",
       " 0.5153903546545059,\n",
       " 0.5538377331388793,\n",
       " 0.5866481988732767,\n",
       " 0.614877763161926,\n",
       " 0.6393713790410208,\n",
       " 0.6607956240680951,\n",
       " 0.6796762513472764,\n",
       " 0.6964302346662752,\n",
       " 0.7113908873163198,\n",
       " 0.7248269766410388,\n",
       " 0.7369571434244435,\n",
       " 0.7479607855372411,\n",
       " 0.7579863137748444,\n",
       " 0.7671574588989745,\n",
       " 0.7755781287806076]"
      ]
     },
     "execution_count": 23,
     "metadata": {},
     "output_type": "execute_result"
    }
   ],
   "source": [
    "mses"
   ]
  },
  {
   "cell_type": "code",
   "execution_count": 24,
   "metadata": {},
   "outputs": [
    {
     "data": {
      "image/png": "[encoded data removed]",
      "text/plain": [
       "<Figure size 432x288 with 1 Axes>"
      ]
     },
     "metadata": {
      "needs_background": "light"
     },
     "output_type": "display_data"
    }
   ],
   "source": [
    "plt.plot(alphas, mses)\n",
    "plt.xlabel('alpha')\n",
    "plt.ylabel('mse')\n",
    "plt.show()"
   ]
  },
  {
   "cell_type": "code",
   "execution_count": 25,
   "metadata": {},
   "outputs": [
    {
     "data": {
      "text/plain": [
       "0.0"
      ]
     },
     "execution_count": 25,
     "metadata": {},
     "output_type": "execute_result"
    }
   ],
   "source": [
    "best_alpha = alphas[np.argmin(mses)]\n",
    "best_alpha"
   ]
  },
  {
   "cell_type": "code",
   "execution_count": 26,
   "metadata": {},
   "outputs": [
    {
     "name": "stdout",
     "output_type": "stream",
     "text": [
      "Train MSE: 0.2329952917956088\n",
      "Test MSE: 0.4811992196321033\n"
     ]
    }
   ],
   "source": [
    "ridge = linear_model.Ridge(alpha=best_alpha, normalize=True)\n",
    "ridge.fit(x_train, y_train)\n",
    "train_preds = ridge.predict(x_train)\n",
    "test_preds = ridge.predict(x_test)\n",
    "train_mse = metrics.mean_squared_error(y_train, train_preds)\n",
    "test_mse = metrics.mean_squared_error(y_test, test_preds)\n",
    "print('Train MSE: %s' % train_mse)\n",
    "print('Test MSE: %s' % test_mse)"
   ]
  },
  {
   "cell_type": "code",
   "execution_count": 27,
   "metadata": {
    "scrolled": false
   },
   "outputs": [
    {
     "name": "stdout",
     "output_type": "stream",
     "text": [
      "Coefficient for Open Price:\t-0.11142016153143013\n",
      "Coefficient for High Price:\t0.059895784938400976\n",
      "Coefficient for Low Price:\t0.05148738505146676\n",
      "Coefficient for Volume:\t\t-3.899915570309424e-12\n",
      "Coefficient for Time:\t\t5.421351050820676e-11\n"
     ]
    }
   ],
   "source": [
    "for i in range(0, len(Data_train.columns) - 1):\n",
    "    print('Coefficient for %s:%s\\t%s' %\n",
    "          (Data_train.columns[i], \n",
    "           '\\t' if len(Data_train.columns[i]) < 7 else '',\n",
    "           ridge.coef_[i]))"
   ]
  },
  {
   "cell_type": "markdown",
   "metadata": {},
   "source": [
    "## Ridge regression + feature selection \n",
    "feature selection"
   ]
  },
  {
   "cell_type": "code",
   "execution_count": 28,
   "metadata": {},
   "outputs": [],
   "source": [
    "wanted_features = [\"Open Price\", \"High Price\", \"Low Price\"] \n",
    "select_features = [column in wanted_features for column in x_train.columns]\n",
    "x_train_fs = x_train.loc[:, select_features]"
   ]
  },
  {
   "cell_type": "code",
   "execution_count": 29,
   "metadata": {},
   "outputs": [
    {
     "data": {
      "text/plain": [
       "0.48217501724072837"
      ]
     },
     "execution_count": 29,
     "metadata": {},
     "output_type": "execute_result"
    }
   ],
   "source": [
    "no_rr_model = linear_model.LinearRegression(normalize=True)\n",
    "no_rr_model.fit(x_train_fs, y_train)\n",
    "x_test_fs = x_test.loc[:, select_features]\n",
    "no_rr_test_preds = no_rr_model.predict(x_test_fs)\n",
    "metrics.mean_squared_error(y_test, no_rr_test_preds)"
   ]
  },
  {
   "cell_type": "markdown",
   "metadata": {},
   "source": [
    "Find best alpha"
   ]
  },
  {
   "cell_type": "code",
   "execution_count": 30,
   "metadata": {},
   "outputs": [
    {
     "name": "stdout",
     "output_type": "stream",
     "text": [
      "0.0\n",
      "0.25796847213289437\n"
     ]
    }
   ],
   "source": [
    "mses = []\n",
    "alphas = np.linspace(start=0, stop=0.001, num=20)  # YOU CAN ALSO CHANGE THIS!\n",
    "for alpha in alphas:\n",
    "    ridge = linear_model.Ridge(alpha=alpha, normalize=True)\n",
    "    mse = model_selection.cross_val_score(ridge, x_train_fs, y_train, cv=10, scoring=scorer)\n",
    "    mses.append(mse.mean())\n",
    "best_alpha = alphas[np.argmin(mses)]\n",
    "print(best_alpha)\n",
    "print(min(mses))"
   ]
  },
  {
   "cell_type": "markdown",
   "metadata": {},
   "source": [
    "evaluate on test set"
   ]
  },
  {
   "cell_type": "code",
   "execution_count": 31,
   "metadata": {},
   "outputs": [
    {
     "data": {
      "text/plain": [
       "0.4821750172435899"
      ]
     },
     "execution_count": 31,
     "metadata": {},
     "output_type": "execute_result"
    }
   ],
   "source": [
    "ridge = linear_model.Ridge(alpha=best_alpha, normalize=True)\n",
    "ridge.fit(x_train_fs, y_train)\n",
    "test_preds = ridge.predict(x_test_fs)\n",
    "metrics.mean_squared_error(y_test, test_preds)"
   ]
  }
 ],
 "metadata": {
  "kernelspec": {
   "display_name": "Python 3",
   "language": "python",
   "name": "python3"
  },
  "language_info": {
   "codemirror_mode": {
    "name": "ipython",
    "version": 3
   },
   "file_extension": ".py",
   "mimetype": "text/x-python",
   "name": "python",
   "nbconvert_exporter": "python",
   "pygments_lexer": "ipython3",
   "version": "3.7.1"
  }
 },
 "nbformat": 4,
 "nbformat_minor": 2
}

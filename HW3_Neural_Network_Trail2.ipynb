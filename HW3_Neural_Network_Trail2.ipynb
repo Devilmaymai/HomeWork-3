{
 "cells": [
  {
   "cell_type": "code",
   "execution_count": 1,
   "metadata": {},
   "outputs": [
    {
     "name": "stderr",
     "output_type": "stream",
     "text": [
      "Using TensorFlow backend.\n"
     ]
    }
   ],
   "source": [
    "import pandas as pd\n",
    "from keras import models, layers, optimizers, regularizers\n",
    "import numpy as np\n",
    "import random\n",
    "from sklearn import model_selection, preprocessing\n",
    "import tensorflow as tf\n",
    "from tqdm import tqdm\n",
    "import matplotlib.pyplot as plt"
   ]
  },
  {
   "cell_type": "code",
   "execution_count": 2,
   "metadata": {},
   "outputs": [
    {
     "data": {
      "text/html": [
       "<div>\n",
       "<style scoped>\n",
       "    .dataframe tbody tr th:only-of-type {\n",
       "        vertical-align: middle;\n",
       "    }\n",
       "\n",
       "    .dataframe tbody tr th {\n",
       "        vertical-align: top;\n",
       "    }\n",
       "\n",
       "    .dataframe thead th {\n",
       "        text-align: right;\n",
       "    }\n",
       "</style>\n",
       "<table border=\"1\" class=\"dataframe\">\n",
       "  <thead>\n",
       "    <tr style=\"text-align: right;\">\n",
       "      <th></th>\n",
       "      <th>Date</th>\n",
       "      <th>Open Price</th>\n",
       "      <th>Close Price</th>\n",
       "      <th>High Price</th>\n",
       "      <th>Low Price</th>\n",
       "      <th>Volume</th>\n",
       "    </tr>\n",
       "  </thead>\n",
       "  <tbody>\n",
       "    <tr>\n",
       "      <th>0</th>\n",
       "      <td>02-Jan-2009</td>\n",
       "      <td>902.99</td>\n",
       "      <td>931.80</td>\n",
       "      <td>934.73</td>\n",
       "      <td>899.35</td>\n",
       "      <td>4048270080</td>\n",
       "    </tr>\n",
       "    <tr>\n",
       "      <th>1</th>\n",
       "      <td>05-Jan-2009</td>\n",
       "      <td>929.17</td>\n",
       "      <td>927.45</td>\n",
       "      <td>936.63</td>\n",
       "      <td>919.53</td>\n",
       "      <td>5413910016</td>\n",
       "    </tr>\n",
       "    <tr>\n",
       "      <th>2</th>\n",
       "      <td>06-Jan-2009</td>\n",
       "      <td>931.17</td>\n",
       "      <td>934.70</td>\n",
       "      <td>943.85</td>\n",
       "      <td>927.28</td>\n",
       "      <td>5392620032</td>\n",
       "    </tr>\n",
       "    <tr>\n",
       "      <th>3</th>\n",
       "      <td>07-Jan-2009</td>\n",
       "      <td>927.45</td>\n",
       "      <td>906.65</td>\n",
       "      <td>927.45</td>\n",
       "      <td>902.37</td>\n",
       "      <td>4704940032</td>\n",
       "    </tr>\n",
       "    <tr>\n",
       "      <th>4</th>\n",
       "      <td>08-Jan-2009</td>\n",
       "      <td>905.73</td>\n",
       "      <td>909.73</td>\n",
       "      <td>910.00</td>\n",
       "      <td>896.81</td>\n",
       "      <td>4991549952</td>\n",
       "    </tr>\n",
       "  </tbody>\n",
       "</table>\n",
       "</div>"
      ],
      "text/plain": [
       "          Date  Open Price  Close Price  High Price  Low Price      Volume\n",
       "0  02-Jan-2009      902.99       931.80      934.73     899.35  4048270080\n",
       "1  05-Jan-2009      929.17       927.45      936.63     919.53  5413910016\n",
       "2  06-Jan-2009      931.17       934.70      943.85     927.28  5392620032\n",
       "3  07-Jan-2009      927.45       906.65      927.45     902.37  4704940032\n",
       "4  08-Jan-2009      905.73       909.73      910.00     896.81  4991549952"
      ]
     },
     "execution_count": 2,
     "metadata": {},
     "output_type": "execute_result"
    }
   ],
   "source": [
    "df = pd.read_csv('stockmarket.csv')\n",
    "df.head()"
   ]
  },
  {
   "cell_type": "code",
   "execution_count": 3,
   "metadata": {},
   "outputs": [],
   "source": [
    "import datetime\n",
    "import calendar\n",
    "\n",
    "def Date_trans(row):\n",
    "    temp = row[\"Date\"].split(\"-\")\n",
    "    temp[1] = list(calendar.month_abbr).index(temp[1])\n",
    "    y = \"-\".join('%s' %id for id in temp)\n",
    "    y = datetime.datetime.strptime(y, '%d-%m-%Y')\n",
    "    return y\n",
    "\n",
    "df[\"Date_T\"] = df.apply (Date_trans , axis = 1)    "
   ]
  },
  {
   "cell_type": "code",
   "execution_count": 4,
   "metadata": {},
   "outputs": [],
   "source": [
    "def Train_Test(row):\n",
    "    y = row[\"Date_T\"].year\n",
    "    if y < 2018:\n",
    "        return \"T\"\n",
    "    else:\n",
    "        return \"F\"\n",
    "\n",
    "df[\"Train\"] = df.apply (Train_Test , axis = 1)    "
   ]
  },
  {
   "cell_type": "code",
   "execution_count": 5,
   "metadata": {},
   "outputs": [
    {
     "data": {
      "text/plain": [
       "T    2264\n",
       "F     252\n",
       "Name: Train, dtype: int64"
      ]
     },
     "execution_count": 5,
     "metadata": {},
     "output_type": "execute_result"
    }
   ],
   "source": [
    "df['Train'].value_counts()"
   ]
  },
  {
   "cell_type": "code",
   "execution_count": 6,
   "metadata": {},
   "outputs": [],
   "source": [
    "def ToStamp(row):\n",
    "    y = datetime.datetime.timestamp(row[\"Date_T\"])\n",
    "    return y\n",
    "\n",
    "df[\"Time\"] = df.apply (ToStamp , axis = 1) "
   ]
  },
  {
   "cell_type": "code",
   "execution_count": 7,
   "metadata": {},
   "outputs": [],
   "source": [
    "def YearSep(row):\n",
    "    y = row[\"Date_T\"].year\n",
    "    return y\n",
    "    \n",
    "def MonthSep(row):\n",
    "    m = row[\"Date_T\"].month\n",
    "    return m\n",
    "    \n",
    "def DateSep(row):\n",
    "    d = int(row[\"Date\"].split(\"-\")[0])\n",
    "    return d\n",
    "    \n",
    "def QDecide(row):\n",
    "    if row[\"Month\"] <= 3:\n",
    "        s = 1\n",
    "    elif row[\"Month\"] <= 6:\n",
    "        s = 2\n",
    "    elif row[\"Month\"] <= 9:\n",
    "        s = 3\n",
    "    else:\n",
    "        s = 4\n",
    "    return s\n",
    "        \n",
    "\n",
    "df[\"Year\"] = df.apply (YearSep , axis = 1)\n",
    "df[\"Month\"] = df.apply (MonthSep , axis = 1)\n",
    "df[\"Day\"] = df.apply (DateSep , axis = 1)\n",
    "df[\"Q\"] = df.apply (QDecide , axis = 1)"
   ]
  },
  {
   "cell_type": "code",
   "execution_count": 8,
   "metadata": {},
   "outputs": [
    {
     "data": {
      "text/html": [
       "<div>\n",
       "<style scoped>\n",
       "    .dataframe tbody tr th:only-of-type {\n",
       "        vertical-align: middle;\n",
       "    }\n",
       "\n",
       "    .dataframe tbody tr th {\n",
       "        vertical-align: top;\n",
       "    }\n",
       "\n",
       "    .dataframe thead th {\n",
       "        text-align: right;\n",
       "    }\n",
       "</style>\n",
       "<table border=\"1\" class=\"dataframe\">\n",
       "  <thead>\n",
       "    <tr style=\"text-align: right;\">\n",
       "      <th></th>\n",
       "      <th>Date</th>\n",
       "      <th>Open Price</th>\n",
       "      <th>Close Price</th>\n",
       "      <th>High Price</th>\n",
       "      <th>Low Price</th>\n",
       "      <th>Volume</th>\n",
       "      <th>Date_T</th>\n",
       "      <th>Train</th>\n",
       "      <th>Time</th>\n",
       "      <th>Year</th>\n",
       "      <th>Month</th>\n",
       "      <th>Day</th>\n",
       "      <th>Q</th>\n",
       "      <th>Diff</th>\n",
       "    </tr>\n",
       "  </thead>\n",
       "  <tbody>\n",
       "    <tr>\n",
       "      <th>0</th>\n",
       "      <td>02-Jan-2009</td>\n",
       "      <td>902.99</td>\n",
       "      <td>931.80</td>\n",
       "      <td>934.73</td>\n",
       "      <td>899.35</td>\n",
       "      <td>4048270080</td>\n",
       "      <td>2009-01-02</td>\n",
       "      <td>T</td>\n",
       "      <td>1.230826e+09</td>\n",
       "      <td>2009</td>\n",
       "      <td>1</td>\n",
       "      <td>2</td>\n",
       "      <td>1</td>\n",
       "      <td>0</td>\n",
       "    </tr>\n",
       "    <tr>\n",
       "      <th>1</th>\n",
       "      <td>05-Jan-2009</td>\n",
       "      <td>929.17</td>\n",
       "      <td>927.45</td>\n",
       "      <td>936.63</td>\n",
       "      <td>919.53</td>\n",
       "      <td>5413910016</td>\n",
       "      <td>2009-01-05</td>\n",
       "      <td>T</td>\n",
       "      <td>1.231085e+09</td>\n",
       "      <td>2009</td>\n",
       "      <td>1</td>\n",
       "      <td>5</td>\n",
       "      <td>1</td>\n",
       "      <td>1</td>\n",
       "    </tr>\n",
       "    <tr>\n",
       "      <th>2</th>\n",
       "      <td>06-Jan-2009</td>\n",
       "      <td>931.17</td>\n",
       "      <td>934.70</td>\n",
       "      <td>943.85</td>\n",
       "      <td>927.28</td>\n",
       "      <td>5392620032</td>\n",
       "      <td>2009-01-06</td>\n",
       "      <td>T</td>\n",
       "      <td>1.231171e+09</td>\n",
       "      <td>2009</td>\n",
       "      <td>1</td>\n",
       "      <td>6</td>\n",
       "      <td>1</td>\n",
       "      <td>0</td>\n",
       "    </tr>\n",
       "    <tr>\n",
       "      <th>3</th>\n",
       "      <td>07-Jan-2009</td>\n",
       "      <td>927.45</td>\n",
       "      <td>906.65</td>\n",
       "      <td>927.45</td>\n",
       "      <td>902.37</td>\n",
       "      <td>4704940032</td>\n",
       "      <td>2009-01-07</td>\n",
       "      <td>T</td>\n",
       "      <td>1.231258e+09</td>\n",
       "      <td>2009</td>\n",
       "      <td>1</td>\n",
       "      <td>7</td>\n",
       "      <td>1</td>\n",
       "      <td>1</td>\n",
       "    </tr>\n",
       "    <tr>\n",
       "      <th>4</th>\n",
       "      <td>08-Jan-2009</td>\n",
       "      <td>905.73</td>\n",
       "      <td>909.73</td>\n",
       "      <td>910.00</td>\n",
       "      <td>896.81</td>\n",
       "      <td>4991549952</td>\n",
       "      <td>2009-01-08</td>\n",
       "      <td>T</td>\n",
       "      <td>1.231344e+09</td>\n",
       "      <td>2009</td>\n",
       "      <td>1</td>\n",
       "      <td>8</td>\n",
       "      <td>1</td>\n",
       "      <td>0</td>\n",
       "    </tr>\n",
       "  </tbody>\n",
       "</table>\n",
       "</div>"
      ],
      "text/plain": [
       "          Date  Open Price  Close Price  High Price  Low Price      Volume  \\\n",
       "0  02-Jan-2009      902.99       931.80      934.73     899.35  4048270080   \n",
       "1  05-Jan-2009      929.17       927.45      936.63     919.53  5413910016   \n",
       "2  06-Jan-2009      931.17       934.70      943.85     927.28  5392620032   \n",
       "3  07-Jan-2009      927.45       906.65      927.45     902.37  4704940032   \n",
       "4  08-Jan-2009      905.73       909.73      910.00     896.81  4991549952   \n",
       "\n",
       "      Date_T Train          Time  Year  Month  Day  Q Diff  \n",
       "0 2009-01-02     T  1.230826e+09  2009      1    2  1    0  \n",
       "1 2009-01-05     T  1.231085e+09  2009      1    5  1    1  \n",
       "2 2009-01-06     T  1.231171e+09  2009      1    6  1    0  \n",
       "3 2009-01-07     T  1.231258e+09  2009      1    7  1    1  \n",
       "4 2009-01-08     T  1.231344e+09  2009      1    8  1    0  "
      ]
     },
     "execution_count": 8,
     "metadata": {},
     "output_type": "execute_result"
    }
   ],
   "source": [
    "def Rise_Fall_P(row):\n",
    "    P = (row[\"Close Price\"]/row[\"Open Price\"]-1)*100\n",
    "    if P > 0:\n",
    "        return \"0\" #rise\n",
    "    elif P < 0:\n",
    "        return \"1\" #fall\n",
    "    else:\n",
    "        return \"2\" #same\n",
    "    return P\n",
    "\n",
    "df[\"Diff\"] = df.apply (Rise_Fall_P , axis = 1)\n",
    "df.head()"
   ]
  },
  {
   "cell_type": "code",
   "execution_count": 9,
   "metadata": {},
   "outputs": [],
   "source": [
    "Data = df.drop([\"Date\", \"Close Price\", \"Date_T\", \"Time\", \"Volume\"], axis=1)\n",
    "Data_train = Data[Data[\"Train\"] == \"T\"].drop([\"Train\"], axis=1)\n",
    "Data_test = Data[Data[\"Train\"] == \"F\"].drop([\"Train\"], axis=1)"
   ]
  },
  {
   "cell_type": "code",
   "execution_count": 10,
   "metadata": {},
   "outputs": [],
   "source": [
    "x_train = Data_train.loc[:, Data_train.columns != \"Diff\"]\n",
    "y_train = Data_train[\"Diff\"]\n",
    "x_test = Data_test.loc[:, Data_test.columns != \"Diff\"]\n",
    "y_test = Data_test[\"Diff\"]"
   ]
  },
  {
   "cell_type": "code",
   "execution_count": 11,
   "metadata": {},
   "outputs": [],
   "source": [
    "x_train = preprocessing.normalize(x_train)\n",
    "x_test = preprocessing.normalize(x_test)"
   ]
  },
  {
   "cell_type": "code",
   "execution_count": 12,
   "metadata": {},
   "outputs": [
    {
     "data": {
      "text/plain": [
       "array([[3.53258343e-01, 3.65675335e-01, 3.51834340e-01, ...,\n",
       "        3.91209585e-04, 7.82419170e-04, 3.91209585e-04],\n",
       "       [3.61070110e-01, 3.63969023e-01, 3.57324062e-01, ...,\n",
       "        3.88594240e-04, 1.94297120e-03, 3.88594240e-04],\n",
       "       [3.60986466e-01, 3.65902119e-01, 3.59478430e-01, ...,\n",
       "        3.87669776e-04, 2.32601866e-03, 3.87669776e-04],\n",
       "       ...,\n",
       "       [5.29558383e-01, 5.30257327e-01, 5.28928544e-01, ...,\n",
       "        2.36930040e-03, 5.33092590e-03, 7.89766800e-04],\n",
       "       [5.29804739e-01, 5.30112432e-01, 5.29132152e-01, ...,\n",
       "        2.36687274e-03, 5.52270306e-03, 7.88957580e-04],\n",
       "       [5.30490836e-01, 5.31076731e-01, 5.27425248e-01, ...,\n",
       "        2.36724989e-03, 5.72085390e-03, 7.89083296e-04]])"
      ]
     },
     "execution_count": 12,
     "metadata": {},
     "output_type": "execute_result"
    }
   ],
   "source": [
    "x_train"
   ]
  },
  {
   "cell_type": "code",
   "execution_count": 13,
   "metadata": {},
   "outputs": [],
   "source": [
    "hidden_units = 10   \n",
    "activation = 'relu' \n",
    "l2 = 0.          \n",
    "learning_rate = 0.1 \n",
    "epochs = 20          \n",
    "batch_size = 32      "
   ]
  },
  {
   "cell_type": "code",
   "execution_count": 14,
   "metadata": {},
   "outputs": [
    {
     "name": "stdout",
     "output_type": "stream",
     "text": [
      "WARNING:tensorflow:From C:\\Programs\\Anaconda3\\lib\\site-packages\\tensorflow\\python\\framework\\op_def_library.py:263: colocate_with (from tensorflow.python.framework.ops) is deprecated and will be removed in a future version.\n",
      "Instructions for updating:\n",
      "Colocations handled automatically by placer.\n"
     ]
    }
   ],
   "source": [
    "# create a sequential model\n",
    "model = models.Sequential()\n",
    "\n",
    "# add the hidden layer\n",
    "model.add(layers.Dense(input_dim=7,\n",
    "                       units=hidden_units, \n",
    "                       activation=activation))\n",
    "\n",
    "# add the output layer\n",
    "model.add(layers.Dense(input_dim=hidden_units,\n",
    "                       units=1,\n",
    "                       activation='sigmoid'))\n",
    "\n",
    "# define our loss function and optimizer\n",
    "model.compile(loss='binary_crossentropy',\n",
    "              # Adam is a kind of gradient descent\n",
    "              optimizer=optimizers.Adam(lr=learning_rate),\n",
    "              metrics=['accuracy'])"
   ]
  },
  {
   "cell_type": "code",
   "execution_count": 15,
   "metadata": {},
   "outputs": [
    {
     "data": {
      "text/plain": [
       "0    1362\n",
       "1    1152\n",
       "2       2\n",
       "Name: Diff, dtype: int64"
      ]
     },
     "execution_count": 15,
     "metadata": {},
     "output_type": "execute_result"
    }
   ],
   "source": [
    "df['Diff'].value_counts()\n",
    "#y_train.shape"
   ]
  },
  {
   "cell_type": "code",
   "execution_count": 16,
   "metadata": {},
   "outputs": [],
   "source": [
    "class_weight = {\n",
    "    \"0\": 1.,\n",
    "    \"1\": 1152 / 1362,\n",
    "    \"2\": 2/1362\n",
    "}"
   ]
  },
  {
   "cell_type": "code",
   "execution_count": 17,
   "metadata": {},
   "outputs": [
    {
     "name": "stdout",
     "output_type": "stream",
     "text": [
      "WARNING:tensorflow:From C:\\Programs\\Anaconda3\\lib\\site-packages\\tensorflow\\python\\ops\\math_ops.py:3066: to_int32 (from tensorflow.python.ops.math_ops) is deprecated and will be removed in a future version.\n",
      "Instructions for updating:\n",
      "Use tf.cast instead.\n",
      "Epoch 1/10\n",
      "2264/2264 [==============================] - ETA: 31s - loss: 0.6390 - acc: 0.50 - ETA: 1s - loss: 0.6652 - acc: 0.5137 - ETA: 0s - loss: 0.6495 - acc: 0.529 - ETA: 0s - loss: 0.6408 - acc: 0.539 - 1s 274us/step - loss: 0.6389 - acc: 0.5415\n",
      "Epoch 2/10\n",
      "2264/2264 [==============================] - ETA: 0s - loss: 0.6194 - acc: 0.625 - ETA: 0s - loss: 0.6317 - acc: 0.539 - ETA: 0s - loss: 0.6325 - acc: 0.537 - 0s 75us/step - loss: 0.6310 - acc: 0.5455\n",
      "Epoch 3/10\n",
      "2264/2264 [==============================] - ETA: 0s - loss: 0.6380 - acc: 0.500 - ETA: 0s - loss: 0.6343 - acc: 0.526 - ETA: 0s - loss: 0.6340 - acc: 0.529 - ETA: 0s - loss: 0.6310 - acc: 0.541 - 0s 81us/step - loss: 0.6297 - acc: 0.5455\n",
      "Epoch 4/10\n",
      "2264/2264 [==============================] - ETA: 0s - loss: 0.6160 - acc: 0.593 - ETA: 0s - loss: 0.6198 - acc: 0.587 - ETA: 0s - loss: 0.6261 - acc: 0.563 - 0s 69us/step - loss: 0.6297 - acc: 0.5455\n",
      "Epoch 5/10\n",
      "2264/2264 [==============================] - ETA: 0s - loss: 0.6438 - acc: 0.437 - ETA: 0s - loss: 0.6381 - acc: 0.511 - ETA: 0s - loss: 0.6351 - acc: 0.525 - ETA: 0s - loss: 0.6317 - acc: 0.542 - 0s 86us/step - loss: 0.6310 - acc: 0.5455\n",
      "Epoch 6/10\n",
      "2264/2264 [==============================] - ETA: 0s - loss: 0.6556 - acc: 0.437 - ETA: 0s - loss: 0.6275 - acc: 0.560 - ETA: 0s - loss: 0.6311 - acc: 0.550 - ETA: 0s - loss: 0.6315 - acc: 0.545 - 0s 96us/step - loss: 0.6314 - acc: 0.5455\n",
      "Epoch 7/10\n",
      "2264/2264 [==============================] - ETA: 0s - loss: 0.6080 - acc: 0.562 - ETA: 0s - loss: 0.6345 - acc: 0.520 - ETA: 0s - loss: 0.6344 - acc: 0.529 - ETA: 0s - loss: 0.6331 - acc: 0.536 - 0s 85us/step - loss: 0.6305 - acc: 0.5455\n",
      "Epoch 8/10\n",
      "2264/2264 [==============================] - ETA: 0s - loss: 0.6026 - acc: 0.625 - ETA: 0s - loss: 0.6395 - acc: 0.503 - ETA: 0s - loss: 0.6338 - acc: 0.533 - ETA: 0s - loss: 0.6340 - acc: 0.534 - 0s 79us/step - loss: 0.6336 - acc: 0.5375\n",
      "Epoch 9/10\n",
      "2264/2264 [==============================] - ETA: 0s - loss: 0.6390 - acc: 0.500 - ETA: 0s - loss: 0.6337 - acc: 0.542 - ETA: 0s - loss: 0.6334 - acc: 0.539 - ETA: 0s - loss: 0.6331 - acc: 0.540 - 0s 81us/step - loss: 0.6314 - acc: 0.5455\n",
      "Epoch 10/10\n",
      "2264/2264 [==============================] - ETA: 0s - loss: 0.6265 - acc: 0.562 - ETA: 0s - loss: 0.6346 - acc: 0.528 - ETA: 0s - loss: 0.6321 - acc: 0.538 - ETA: 0s - loss: 0.6320 - acc: 0.542 - 0s 79us/step - loss: 0.6316 - acc: 0.5455\n",
      "2264/2264 [==============================] - ETA:  - ETA:  - ETA:  - 0s 86us/step\n",
      "252/252 [==============================] - ETA:  - 0s 100us/step\n",
      "Training accuracy: 0.5454946998572602\n",
      "Testing accuracy: 0.5039682549143595\n"
     ]
    },
    {
     "data": {
      "image/png": "[encoded data removed]",
      "text/plain": [
       "<Figure size 432x288 with 1 Axes>"
      ]
     },
     "metadata": {
      "needs_background": "light"
     },
     "output_type": "display_data"
    }
   ],
   "source": [
    "# train the parameters\n",
    "history = model.fit(x_train, y_train, epochs=10, batch_size=batch_size, class_weight=class_weight)\n",
    "\n",
    "# evaluate accuracy\n",
    "train_acc = model.evaluate(x_train, y_train, batch_size=32)[1]\n",
    "test_acc = model.evaluate(x_test, y_test, batch_size=32)[1]\n",
    "print('Training accuracy: %s' % train_acc)\n",
    "print('Testing accuracy: %s' % test_acc)\n",
    "\n",
    "losses = history.history['loss']\n",
    "plt.plot(range(len(losses)), losses, 'r')\n",
    "plt.show()"
   ]
  },
  {
   "cell_type": "code",
   "execution_count": 18,
   "metadata": {},
   "outputs": [],
   "source": [
    "def train_and_evaluate(model, x_train, y_train, x_test, y_test, n=20):\n",
    "    train_accs = []\n",
    "    test_accs = []\n",
    "    with tqdm(total=n) as progress_bar:\n",
    "        for _ in range(n):\n",
    "            model.fit(\n",
    "                x_train, \n",
    "                y_train, \n",
    "                epochs=epochs, \n",
    "                batch_size=batch_size, \n",
    "                class_weight=class_weight, \n",
    "                verbose=False)\n",
    "            train_accs.append(model.evaluate(x_train, y_train, batch_size=32, verbose=False)[1])\n",
    "            test_accs.append(model.evaluate(x_test, y_test, batch_size=32, verbose=False)[1])\n",
    "            progress_bar.update()\n",
    "    print('Avgerage Training Accuracy: %s' % np.average(train_accs))\n",
    "    print('Avgerage Testing Accuracy: %s' % np.average(test_accs))\n",
    "    return train_accs, test_accs"
   ]
  },
  {
   "cell_type": "code",
   "execution_count": 19,
   "metadata": {},
   "outputs": [
    {
     "name": "stderr",
     "output_type": "stream",
     "text": [
      "100%|██████████████████████████████████████████████████████████████████████████████████| 20/20 [00:46<00:00,  2.45s/it]\n"
     ]
    },
    {
     "name": "stdout",
     "output_type": "stream",
     "text": [
      "Avgerage Training Accuracy: 0.5409010602760229\n",
      "Avgerage Testing Accuracy: 0.5035714294229237\n"
     ]
    }
   ],
   "source": [
    "_, test_accs = train_and_evaluate(model, x_train, y_train, x_test, y_test)"
   ]
  },
  {
   "cell_type": "code",
   "execution_count": 20,
   "metadata": {},
   "outputs": [
    {
     "data": {
      "image/png": "[encoded data removed]",
      "text/plain": [
       "<Figure size 432x288 with 1 Axes>"
      ]
     },
     "metadata": {
      "needs_background": "light"
     },
     "output_type": "display_data"
    }
   ],
   "source": [
    "plt.violinplot(test_accs)\n",
    "plt.show()"
   ]
  },
  {
   "cell_type": "code",
   "execution_count": 21,
   "metadata": {},
   "outputs": [
    {
     "name": "stdout",
     "output_type": "stream",
     "text": [
      "Min: 0.4960317450856406\n",
      "Max: 0.5039682549143595\n"
     ]
    }
   ],
   "source": [
    "print('Min: %s' % np.min(test_accs))\n",
    "print('Max: %s' % np.max(test_accs))"
   ]
  },
  {
   "cell_type": "code",
   "execution_count": 22,
   "metadata": {},
   "outputs": [],
   "source": [
    "hidden_units = 10    \n",
    "activation = 'sigmoid' \n",
    "l2 = 0.              \n",
    "learning_rate = 0.1  \n",
    "epochs = 20         \n",
    "batch_size = 32      "
   ]
  },
  {
   "cell_type": "code",
   "execution_count": 23,
   "metadata": {},
   "outputs": [],
   "source": [
    "def build_model(hidden_units, activation, learning_rate):\n",
    "    model = models.Sequential()\n",
    "    model.add(layers.Dense(input_dim=7,\n",
    "                           units=hidden_units, \n",
    "                           activation=activation,\n",
    "                           kernel_regularizer=regularizers.l2(l2)))\n",
    "    model.add(layers.Dense(input_dim=hidden_units,\n",
    "                           units=1,\n",
    "                           activation='relu',\n",
    "                           kernel_regularizer=regularizers.l2(l2)))\n",
    "    model.compile(loss='binary_crossentropy',\n",
    "                  # Adam is a kind of gradient descent\n",
    "                  optimizer=optimizers.Adam(lr=learning_rate),\n",
    "                  metrics=['accuracy'])\n",
    "    return model\n",
    "\n",
    "model = build_model(hidden_units, activation, learning_rate)"
   ]
  },
  {
   "cell_type": "code",
   "execution_count": 24,
   "metadata": {},
   "outputs": [
    {
     "data": {
      "image/png": "[encoded data removed]",
      "text/plain": [
       "<Figure size 432x288 with 1 Axes>"
      ]
     },
     "metadata": {
      "needs_background": "light"
     },
     "output_type": "display_data"
    }
   ],
   "source": [
    "history = model.fit(\n",
    "    x_train, y_train, epochs=epochs, batch_size=batch_size, \n",
    "    class_weight=class_weight, verbose=False)\n",
    "losses = history.history['loss']\n",
    "plt.plot(range(len(losses)), losses, 'r')\n",
    "plt.show()"
   ]
  },
  {
   "cell_type": "code",
   "execution_count": 25,
   "metadata": {},
   "outputs": [
    {
     "name": "stderr",
     "output_type": "stream",
     "text": [
      "100%|██████████████████████████████████████████████████████████████████████████████████| 20/20 [00:49<00:00,  2.26s/it]\n"
     ]
    },
    {
     "name": "stdout",
     "output_type": "stream",
     "text": [
      "Avgerage Training Accuracy: 0.5319567139757394\n",
      "Avgerage Testing Accuracy: 0.5027777784400518\n"
     ]
    }
   ],
   "source": [
    "_, __ = train_and_evaluate(model, x_train, y_train, x_test, y_test)"
   ]
  }
 ],
 "metadata": {
  "kernelspec": {
   "display_name": "Python 3",
   "language": "python",
   "name": "python3"
  },
  "language_info": {
   "codemirror_mode": {
    "name": "ipython",
    "version": 3
   },
   "file_extension": ".py",
   "mimetype": "text/x-python",
   "name": "python",
   "nbconvert_exporter": "python",
   "pygments_lexer": "ipython3",
   "version": "3.7.1"
  }
 },
 "nbformat": 4,
 "nbformat_minor": 2
}
